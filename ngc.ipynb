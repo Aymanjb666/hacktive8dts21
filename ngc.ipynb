{
 "cells": [
  {
   "cell_type": "markdown",
   "metadata": {},
   "source": [
    "# task 1 \n",
    "\n",
    "How many unique customer_id from above list?\n"
   ]
  },
  {
   "cell_type": "code",
   "execution_count": 12,
   "metadata": {},
   "outputs": [
    {
     "name": "stdout",
     "output_type": "stream",
     "text": [
      "12\n"
     ]
    }
   ],
   "source": [
    "customer_id = ['B818', 'A461', 'A092', 'A082', 'B341', 'A005', 'A092', 'A461','B219',\n",
    "                'B904', 'A901', 'A083', 'B904', 'A092', 'B341', 'B821','B341', 'B821',\n",
    "                  'B904', 'B818', 'A901', 'A083', 'B818', 'A082','B219', 'B219', 'A083',\n",
    "                    'A901', 'A082', 'B341', 'B341', 'A083','A082', 'B219', 'B439', 'A461',\n",
    "                      'A005', 'A901', 'B341', 'A082','A083', 'A461', 'A083', 'A901', 'A461',\n",
    "                        'A083', 'A082', 'A083','B341', 'A901', 'A082', 'A461', 'B219', 'A083', \n",
    "                        'B818', 'B821','A092', 'B341', 'A461', 'A092', 'A083', 'B821', 'A092']\n",
    "\n",
    "#menghilangkan nilai duplikat\n",
    "customer_id_set = set(customer_id)\n",
    "\n",
    "#menghitung jumlah customer unique\n",
    "print(len(customer_id_set))\n"
   ]
  },
  {
   "cell_type": "markdown",
   "metadata": {},
   "source": [
    "# task 2\n",
    "Given list of: Data = [1, 4, 9, 16, 25, 36, 49,  64, 81, 100]\n",
    "\n",
    "Use indexing so you can get this output:   \n",
    "a.16   \n",
    "b.[36, 49, 64, 81]   \n",
    "c.[100, 81, 64, 49, 36, 25, 16, 9, 4, 1]   "
   ]
  },
  {
   "cell_type": "code",
   "execution_count": 13,
   "metadata": {},
   "outputs": [
    {
     "name": "stdout",
     "output_type": "stream",
     "text": [
      "16\n",
      "[36, 49, 64, 81]\n",
      "[100, 81, 64, 49, 36, 25, 16, 9, 4, 1]\n"
     ]
    }
   ],
   "source": [
    "Data = [1, 4, 9, 16, 25, 36, 49,  64, 81, 100]\n",
    "\n",
    "\n",
    "print(Data[3])\n",
    "\n",
    "print(Data[5:9])\n",
    "\n",
    "print(Data[::-1])\n",
    "\n",
    "\n",
    "\n",
    "\n"
   ]
  },
  {
   "cell_type": "markdown",
   "metadata": {},
   "source": [
    "# task 3\n",
    "\n",
    "What python command can be use to:\n",
    "\n",
    "a.Get list of keys available in dictionary\n",
    "\n",
    "b.Change 'Jawa Timur' value from 'Madiun'  to 'Surabaya'\n"
   ]
  },
  {
   "cell_type": "code",
   "execution_count": 14,
   "metadata": {},
   "outputs": [
    {
     "name": "stdout",
     "output_type": "stream",
     "text": [
      "{'jawa timur': 'surabaya'}\n"
     ]
    }
   ],
   "source": [
    "provinsi = {'Nanggroe Aceh Darussalam': 'Aceh',\n",
    "            'Sumatera Selatan': 'Palembang',\n",
    "            'Kalimantan Barat': 'Pontianak',\n",
    "            'Jawa Timur': 'Madiun',\n",
    "            'Sulawesi Selatan': 'Makassar',\n",
    "            'Maluku': 'Ambon'} \n",
    "\n",
    "data = {\n",
    "    \"jawa timur\" : \"madiun\",\n",
    "     }\n",
    "\n",
    "data[\"jawa timur\"] = \"surabaya\" \n",
    "\n",
    "print(data)"
   ]
  }
 ],
 "metadata": {
  "kernelspec": {
   "display_name": "base",
   "language": "python",
   "name": "python3"
  },
  "language_info": {
   "codemirror_mode": {
    "name": "ipython",
    "version": 3
   },
   "file_extension": ".py",
   "mimetype": "text/x-python",
   "name": "python",
   "nbconvert_exporter": "python",
   "pygments_lexer": "ipython3",
   "version": "3.12.4"
  }
 },
 "nbformat": 4,
 "nbformat_minor": 2
}
