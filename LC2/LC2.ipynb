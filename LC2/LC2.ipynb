{
 "cells": [
  {
   "cell_type": "markdown",
   "metadata": {},
   "source": [
    "========\n",
    "Live Code 2\n",
    "\n",
    "Nama  : Ayman Baswedan\n",
    "\n",
    "Batch : HCK-021\n",
    "\n",
    "Program ini dibuat untuk mengatur data dari SQL Big Query\n",
    "=================================================\n",
    "'''"
   ]
  },
  {
   "cell_type": "code",
   "execution_count": null,
   "metadata": {},
   "outputs": [],
   "source": [
    "import pandas as pd \n",
    "\n",
    "df = pd.read_csv(data.csv)"
   ]
  }
 ],
 "metadata": {
  "language_info": {
   "name": "python"
  }
 },
 "nbformat": 4,
 "nbformat_minor": 2
}
